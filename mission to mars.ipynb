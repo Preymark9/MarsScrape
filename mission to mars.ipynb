{
 "cells": [
  {
   "cell_type": "code",
   "execution_count": 1,
   "metadata": {},
   "outputs": [],
   "source": [
    "from splinter import Browser\n",
    "from bs4 import BeautifulSoup\n",
    "import pandas as pd\n",
    "import datetime as dt\n",
    "import requests"
   ]
  },
  {
   "cell_type": "code",
   "execution_count": 4,
   "metadata": {},
   "outputs": [],
   "source": [
    "def scrape_all():\n",
    "\n",
    "    # Initiate headless driver for deployment\n",
    "    browser = Browser(\"chrome\", executable_path=\"chromedriver.exe\", headless=True)\n",
    "#news_title, news_paragraph = mars_news(browser)\n",
    "    browser.visit(\"https://mars.nasa.gov/news/\")\n",
    "    url = \"https://www.jpl.nasa.gov/spaceimages/?search=&category=Mars\"\n",
    "    \n",
    "    soup = BeautifulSoup(browser.html, 'html.parser')\n",
    "#print(soup.prettify)\n",
    "    results = soup.find(\"div\", class_=\"content_title\").get_text()\n",
    "    print(results)\n",
    "    # Stop webdriver and return data\n",
    "    browser.quit()\n",
    "    # return data"
   ]
  },
  {
   "cell_type": "code",
   "execution_count": 5,
   "metadata": {},
   "outputs": [],
   "source": [
    "def featured_image(browser):\n",
    "\n",
    "    # Find and click the full image button\n",
    "    browser = Browser(\"chrome\", executable_path=\"chromedriver.exe\", headless=True)\n",
    "    browser.visit(\"https://mars.nasa.gov/news/\")\n",
    "    soup = BeautifulSoup(browser.html, 'html.parser')\n",
    "    print(soup.prettify)\n",
    "    #try:\n",
    "       #pass\n",
    "\n",
    "    #except AttributeError:\n",
    "        #pass\n",
    "\n",
    "    # Use the base url to create an absolute url\n",
    "   \n",
    "\n",
    "    # return img_url"
   ]
  },
  {
   "cell_type": "code",
   "execution_count": null,
   "metadata": {},
   "outputs": [],
   "source": [
    "def hemispheres(browser):\n",
    "\n",
    "\n",
    "    browser.visit(url)\n",
    "\n",
    "    # Click the link, find the sample anchor, return the href\n",
    "   \n",
    "        # Finally, we navigate backwards\n",
    "    browser.back()\n",
    "\n",
    "    # return hemisphere_image_urls\n",
    "\n",
    "\n"
   ]
  },
  {
   "cell_type": "code",
   "execution_count": null,
   "metadata": {},
   "outputs": [],
   "source": [
    "def twitter_weather(browser):\n",
    "    browser = Browser(\"chrome\", executable_path=\"chromedriver.exe\", headless=True)\n",
    "    url = \"https://twitter.com/marswxreport?lang=en\"\n",
    "    browser.visit(\"url\")\n",
    "    soup = BeautifulSoup(browser.html, 'html.parser')\n",
    "    # return mars_weather\n",
    "    results = soup.find(\"div\", class_=\"tweet\")\n",
    "    print(\"results\")\n",
    "\n",
    "#couldn't get this to work even with Rob and Katrina's help. I hate Twitter, I get the feeling that it's mutual"
   ]
  },
  {
   "cell_type": "code",
   "execution_count": null,
   "metadata": {},
   "outputs": [],
   "source": [
    "soup.prettify"
   ]
  },
  {
   "cell_type": "code",
   "execution_count": null,
   "metadata": {},
   "outputs": [],
   "source": [
    "def scrape_hemisphere(html_text):\n",
    "\n",
    "    # Soupify the html text\n",
    "    \n",
    "    # Try to get href and text except if error.\n",
    "    try:\n",
    "        pass\n",
    "\n",
    "    except AttributeError:\n",
    "        pass\n",
    "\n",
    "\n",
    "    # return hemisphere\n",
    "\n",
    "\n"
   ]
  },
  {
   "cell_type": "code",
   "execution_count": null,
   "metadata": {},
   "outputs": [],
   "source": [
    "def mars_facts():\n",
    "\n",
    "    try:\n",
    "        pass\n",
    "    except BaseException:\n",
    "        pass\n",
    "       \n",
    "    # Add some bootstrap styling to <table>\n",
    "    # return df\n",
    "\n",
    "\n",
    "if __name__ == \"__main__\":\n",
    "\n",
    "    # If running as script, print scraped data\n",
    "    print(scrape_all())\n"
   ]
  }
 ],
 "metadata": {
  "kernelspec": {
   "display_name": "Python 3",
   "language": "python",
   "name": "python3"
  },
  "language_info": {
   "codemirror_mode": {
    "name": "ipython",
    "version": 3
   },
   "file_extension": ".py",
   "mimetype": "text/x-python",
   "name": "python",
   "nbconvert_exporter": "python",
   "pygments_lexer": "ipython3",
   "version": "3.6.5"
  }
 },
 "nbformat": 4,
 "nbformat_minor": 2
}
